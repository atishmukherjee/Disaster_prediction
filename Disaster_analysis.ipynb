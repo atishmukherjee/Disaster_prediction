{
  "nbformat": 4,
  "nbformat_minor": 0,
  "metadata": {
    "colab": {
      "provenance": []
    },
    "kernelspec": {
      "name": "python3",
      "display_name": "Python 3"
    },
    "language_info": {
      "name": "python"
    }
  },
  "cells": [
    {
      "cell_type": "code",
      "execution_count": 2,
      "metadata": {
        "id": "dtJ4aq5sc0-x"
      },
      "outputs": [],
      "source": [
        "import pandas as pd"
      ]
    },
    {
      "cell_type": "code",
      "source": [
        "from google.colab import drive\n",
        "drive.mount('/content/drive')"
      ],
      "metadata": {
        "colab": {
          "base_uri": "https://localhost:8080/"
        },
        "id": "jz7F5e_yc5-a",
        "outputId": "2d39041a-e37e-434e-fafe-05ee3fb88ff7"
      },
      "execution_count": 1,
      "outputs": [
        {
          "output_type": "stream",
          "name": "stdout",
          "text": [
            "Mounted at /content/drive\n"
          ]
        }
      ]
    },
    {
      "cell_type": "code",
      "source": [
        "df = pd.read_csv('/content/drive/MyDrive/Disaster forecast data/natural_disasters_2024.csv')\n",
        "df.head()\n"
      ],
      "metadata": {
        "colab": {
          "base_uri": "https://localhost:8080/",
          "height": 206
        },
        "id": "ZUIpY99jc3UP",
        "outputId": "d1cf0aff-d154-48d4-fb74-db9dcc1ef002"
      },
      "execution_count": 3,
      "outputs": [
        {
          "output_type": "execute_result",
          "data": {
            "text/plain": [
              "   Disaster_ID Disaster_Type   Location  Magnitude                 Date  \\\n",
              "0            1      Wildfire     Brazil   6.267393  2024-01-01 00:00:00   \n",
              "1            2     Hurricane  Indonesia   6.649358  2024-01-01 01:00:00   \n",
              "2            3       Tornado      China   9.724366  2024-01-01 02:00:00   \n",
              "3            4         Flood      India   1.702505  2024-01-01 03:00:00   \n",
              "4            5         Flood     Brazil   7.917748  2024-01-01 04:00:00   \n",
              "\n",
              "   Fatalities  Economic_Loss($)  \n",
              "0        9706      6.509790e+08  \n",
              "1        2233      5.538357e+08  \n",
              "2         478      6.910998e+07  \n",
              "3        2867      8.474880e+08  \n",
              "4         776      6.449297e+08  "
            ],
            "text/html": [
              "\n",
              "  <div id=\"df-0548015c-be1e-4933-ac73-882d2846dee1\" class=\"colab-df-container\">\n",
              "    <div>\n",
              "<style scoped>\n",
              "    .dataframe tbody tr th:only-of-type {\n",
              "        vertical-align: middle;\n",
              "    }\n",
              "\n",
              "    .dataframe tbody tr th {\n",
              "        vertical-align: top;\n",
              "    }\n",
              "\n",
              "    .dataframe thead th {\n",
              "        text-align: right;\n",
              "    }\n",
              "</style>\n",
              "<table border=\"1\" class=\"dataframe\">\n",
              "  <thead>\n",
              "    <tr style=\"text-align: right;\">\n",
              "      <th></th>\n",
              "      <th>Disaster_ID</th>\n",
              "      <th>Disaster_Type</th>\n",
              "      <th>Location</th>\n",
              "      <th>Magnitude</th>\n",
              "      <th>Date</th>\n",
              "      <th>Fatalities</th>\n",
              "      <th>Economic_Loss($)</th>\n",
              "    </tr>\n",
              "  </thead>\n",
              "  <tbody>\n",
              "    <tr>\n",
              "      <th>0</th>\n",
              "      <td>1</td>\n",
              "      <td>Wildfire</td>\n",
              "      <td>Brazil</td>\n",
              "      <td>6.267393</td>\n",
              "      <td>2024-01-01 00:00:00</td>\n",
              "      <td>9706</td>\n",
              "      <td>6.509790e+08</td>\n",
              "    </tr>\n",
              "    <tr>\n",
              "      <th>1</th>\n",
              "      <td>2</td>\n",
              "      <td>Hurricane</td>\n",
              "      <td>Indonesia</td>\n",
              "      <td>6.649358</td>\n",
              "      <td>2024-01-01 01:00:00</td>\n",
              "      <td>2233</td>\n",
              "      <td>5.538357e+08</td>\n",
              "    </tr>\n",
              "    <tr>\n",
              "      <th>2</th>\n",
              "      <td>3</td>\n",
              "      <td>Tornado</td>\n",
              "      <td>China</td>\n",
              "      <td>9.724366</td>\n",
              "      <td>2024-01-01 02:00:00</td>\n",
              "      <td>478</td>\n",
              "      <td>6.910998e+07</td>\n",
              "    </tr>\n",
              "    <tr>\n",
              "      <th>3</th>\n",
              "      <td>4</td>\n",
              "      <td>Flood</td>\n",
              "      <td>India</td>\n",
              "      <td>1.702505</td>\n",
              "      <td>2024-01-01 03:00:00</td>\n",
              "      <td>2867</td>\n",
              "      <td>8.474880e+08</td>\n",
              "    </tr>\n",
              "    <tr>\n",
              "      <th>4</th>\n",
              "      <td>5</td>\n",
              "      <td>Flood</td>\n",
              "      <td>Brazil</td>\n",
              "      <td>7.917748</td>\n",
              "      <td>2024-01-01 04:00:00</td>\n",
              "      <td>776</td>\n",
              "      <td>6.449297e+08</td>\n",
              "    </tr>\n",
              "  </tbody>\n",
              "</table>\n",
              "</div>\n",
              "    <div class=\"colab-df-buttons\">\n",
              "\n",
              "  <div class=\"colab-df-container\">\n",
              "    <button class=\"colab-df-convert\" onclick=\"convertToInteractive('df-0548015c-be1e-4933-ac73-882d2846dee1')\"\n",
              "            title=\"Convert this dataframe to an interactive table.\"\n",
              "            style=\"display:none;\">\n",
              "\n",
              "  <svg xmlns=\"http://www.w3.org/2000/svg\" height=\"24px\" viewBox=\"0 -960 960 960\">\n",
              "    <path d=\"M120-120v-720h720v720H120Zm60-500h600v-160H180v160Zm220 220h160v-160H400v160Zm0 220h160v-160H400v160ZM180-400h160v-160H180v160Zm440 0h160v-160H620v160ZM180-180h160v-160H180v160Zm440 0h160v-160H620v160Z\"/>\n",
              "  </svg>\n",
              "    </button>\n",
              "\n",
              "  <style>\n",
              "    .colab-df-container {\n",
              "      display:flex;\n",
              "      gap: 12px;\n",
              "    }\n",
              "\n",
              "    .colab-df-convert {\n",
              "      background-color: #E8F0FE;\n",
              "      border: none;\n",
              "      border-radius: 50%;\n",
              "      cursor: pointer;\n",
              "      display: none;\n",
              "      fill: #1967D2;\n",
              "      height: 32px;\n",
              "      padding: 0 0 0 0;\n",
              "      width: 32px;\n",
              "    }\n",
              "\n",
              "    .colab-df-convert:hover {\n",
              "      background-color: #E2EBFA;\n",
              "      box-shadow: 0px 1px 2px rgba(60, 64, 67, 0.3), 0px 1px 3px 1px rgba(60, 64, 67, 0.15);\n",
              "      fill: #174EA6;\n",
              "    }\n",
              "\n",
              "    .colab-df-buttons div {\n",
              "      margin-bottom: 4px;\n",
              "    }\n",
              "\n",
              "    [theme=dark] .colab-df-convert {\n",
              "      background-color: #3B4455;\n",
              "      fill: #D2E3FC;\n",
              "    }\n",
              "\n",
              "    [theme=dark] .colab-df-convert:hover {\n",
              "      background-color: #434B5C;\n",
              "      box-shadow: 0px 1px 3px 1px rgba(0, 0, 0, 0.15);\n",
              "      filter: drop-shadow(0px 1px 2px rgba(0, 0, 0, 0.3));\n",
              "      fill: #FFFFFF;\n",
              "    }\n",
              "  </style>\n",
              "\n",
              "    <script>\n",
              "      const buttonEl =\n",
              "        document.querySelector('#df-0548015c-be1e-4933-ac73-882d2846dee1 button.colab-df-convert');\n",
              "      buttonEl.style.display =\n",
              "        google.colab.kernel.accessAllowed ? 'block' : 'none';\n",
              "\n",
              "      async function convertToInteractive(key) {\n",
              "        const element = document.querySelector('#df-0548015c-be1e-4933-ac73-882d2846dee1');\n",
              "        const dataTable =\n",
              "          await google.colab.kernel.invokeFunction('convertToInteractive',\n",
              "                                                    [key], {});\n",
              "        if (!dataTable) return;\n",
              "\n",
              "        const docLinkHtml = 'Like what you see? Visit the ' +\n",
              "          '<a target=\"_blank\" href=https://colab.research.google.com/notebooks/data_table.ipynb>data table notebook</a>'\n",
              "          + ' to learn more about interactive tables.';\n",
              "        element.innerHTML = '';\n",
              "        dataTable['output_type'] = 'display_data';\n",
              "        await google.colab.output.renderOutput(dataTable, element);\n",
              "        const docLink = document.createElement('div');\n",
              "        docLink.innerHTML = docLinkHtml;\n",
              "        element.appendChild(docLink);\n",
              "      }\n",
              "    </script>\n",
              "  </div>\n",
              "\n",
              "\n",
              "<div id=\"df-1732d729-ff34-4e71-9363-c1eafda57942\">\n",
              "  <button class=\"colab-df-quickchart\" onclick=\"quickchart('df-1732d729-ff34-4e71-9363-c1eafda57942')\"\n",
              "            title=\"Suggest charts\"\n",
              "            style=\"display:none;\">\n",
              "\n",
              "<svg xmlns=\"http://www.w3.org/2000/svg\" height=\"24px\"viewBox=\"0 0 24 24\"\n",
              "     width=\"24px\">\n",
              "    <g>\n",
              "        <path d=\"M19 3H5c-1.1 0-2 .9-2 2v14c0 1.1.9 2 2 2h14c1.1 0 2-.9 2-2V5c0-1.1-.9-2-2-2zM9 17H7v-7h2v7zm4 0h-2V7h2v10zm4 0h-2v-4h2v4z\"/>\n",
              "    </g>\n",
              "</svg>\n",
              "  </button>\n",
              "\n",
              "<style>\n",
              "  .colab-df-quickchart {\n",
              "      --bg-color: #E8F0FE;\n",
              "      --fill-color: #1967D2;\n",
              "      --hover-bg-color: #E2EBFA;\n",
              "      --hover-fill-color: #174EA6;\n",
              "      --disabled-fill-color: #AAA;\n",
              "      --disabled-bg-color: #DDD;\n",
              "  }\n",
              "\n",
              "  [theme=dark] .colab-df-quickchart {\n",
              "      --bg-color: #3B4455;\n",
              "      --fill-color: #D2E3FC;\n",
              "      --hover-bg-color: #434B5C;\n",
              "      --hover-fill-color: #FFFFFF;\n",
              "      --disabled-bg-color: #3B4455;\n",
              "      --disabled-fill-color: #666;\n",
              "  }\n",
              "\n",
              "  .colab-df-quickchart {\n",
              "    background-color: var(--bg-color);\n",
              "    border: none;\n",
              "    border-radius: 50%;\n",
              "    cursor: pointer;\n",
              "    display: none;\n",
              "    fill: var(--fill-color);\n",
              "    height: 32px;\n",
              "    padding: 0;\n",
              "    width: 32px;\n",
              "  }\n",
              "\n",
              "  .colab-df-quickchart:hover {\n",
              "    background-color: var(--hover-bg-color);\n",
              "    box-shadow: 0 1px 2px rgba(60, 64, 67, 0.3), 0 1px 3px 1px rgba(60, 64, 67, 0.15);\n",
              "    fill: var(--button-hover-fill-color);\n",
              "  }\n",
              "\n",
              "  .colab-df-quickchart-complete:disabled,\n",
              "  .colab-df-quickchart-complete:disabled:hover {\n",
              "    background-color: var(--disabled-bg-color);\n",
              "    fill: var(--disabled-fill-color);\n",
              "    box-shadow: none;\n",
              "  }\n",
              "\n",
              "  .colab-df-spinner {\n",
              "    border: 2px solid var(--fill-color);\n",
              "    border-color: transparent;\n",
              "    border-bottom-color: var(--fill-color);\n",
              "    animation:\n",
              "      spin 1s steps(1) infinite;\n",
              "  }\n",
              "\n",
              "  @keyframes spin {\n",
              "    0% {\n",
              "      border-color: transparent;\n",
              "      border-bottom-color: var(--fill-color);\n",
              "      border-left-color: var(--fill-color);\n",
              "    }\n",
              "    20% {\n",
              "      border-color: transparent;\n",
              "      border-left-color: var(--fill-color);\n",
              "      border-top-color: var(--fill-color);\n",
              "    }\n",
              "    30% {\n",
              "      border-color: transparent;\n",
              "      border-left-color: var(--fill-color);\n",
              "      border-top-color: var(--fill-color);\n",
              "      border-right-color: var(--fill-color);\n",
              "    }\n",
              "    40% {\n",
              "      border-color: transparent;\n",
              "      border-right-color: var(--fill-color);\n",
              "      border-top-color: var(--fill-color);\n",
              "    }\n",
              "    60% {\n",
              "      border-color: transparent;\n",
              "      border-right-color: var(--fill-color);\n",
              "    }\n",
              "    80% {\n",
              "      border-color: transparent;\n",
              "      border-right-color: var(--fill-color);\n",
              "      border-bottom-color: var(--fill-color);\n",
              "    }\n",
              "    90% {\n",
              "      border-color: transparent;\n",
              "      border-bottom-color: var(--fill-color);\n",
              "    }\n",
              "  }\n",
              "</style>\n",
              "\n",
              "  <script>\n",
              "    async function quickchart(key) {\n",
              "      const quickchartButtonEl =\n",
              "        document.querySelector('#' + key + ' button');\n",
              "      quickchartButtonEl.disabled = true;  // To prevent multiple clicks.\n",
              "      quickchartButtonEl.classList.add('colab-df-spinner');\n",
              "      try {\n",
              "        const charts = await google.colab.kernel.invokeFunction(\n",
              "            'suggestCharts', [key], {});\n",
              "      } catch (error) {\n",
              "        console.error('Error during call to suggestCharts:', error);\n",
              "      }\n",
              "      quickchartButtonEl.classList.remove('colab-df-spinner');\n",
              "      quickchartButtonEl.classList.add('colab-df-quickchart-complete');\n",
              "    }\n",
              "    (() => {\n",
              "      let quickchartButtonEl =\n",
              "        document.querySelector('#df-1732d729-ff34-4e71-9363-c1eafda57942 button');\n",
              "      quickchartButtonEl.style.display =\n",
              "        google.colab.kernel.accessAllowed ? 'block' : 'none';\n",
              "    })();\n",
              "  </script>\n",
              "</div>\n",
              "\n",
              "    </div>\n",
              "  </div>\n"
            ],
            "application/vnd.google.colaboratory.intrinsic+json": {
              "type": "dataframe",
              "variable_name": "df",
              "summary": "{\n  \"name\": \"df\",\n  \"rows\": 10000,\n  \"fields\": [\n    {\n      \"column\": \"Disaster_ID\",\n      \"properties\": {\n        \"dtype\": \"number\",\n        \"std\": 2886,\n        \"min\": 1,\n        \"max\": 10000,\n        \"num_unique_values\": 10000,\n        \"samples\": [\n          6253,\n          4685,\n          1732\n        ],\n        \"semantic_type\": \"\",\n        \"description\": \"\"\n      }\n    },\n    {\n      \"column\": \"Disaster_Type\",\n      \"properties\": {\n        \"dtype\": \"category\",\n        \"num_unique_values\": 5,\n        \"samples\": [\n          \"Hurricane\",\n          \"Earthquake\",\n          \"Tornado\"\n        ],\n        \"semantic_type\": \"\",\n        \"description\": \"\"\n      }\n    },\n    {\n      \"column\": \"Location\",\n      \"properties\": {\n        \"dtype\": \"category\",\n        \"num_unique_values\": 6,\n        \"samples\": [\n          \"Brazil\",\n          \"Indonesia\",\n          \"Japan\"\n        ],\n        \"semantic_type\": \"\",\n        \"description\": \"\"\n      }\n    },\n    {\n      \"column\": \"Magnitude\",\n      \"properties\": {\n        \"dtype\": \"number\",\n        \"std\": 2.619303901884196,\n        \"min\": 1.0006555286603729,\n        \"max\": 9.99967112960256,\n        \"num_unique_values\": 10000,\n        \"samples\": [\n          5.779710063314187,\n          8.11557133289839,\n          7.679974839384412\n        ],\n        \"semantic_type\": \"\",\n        \"description\": \"\"\n      }\n    },\n    {\n      \"column\": \"Date\",\n      \"properties\": {\n        \"dtype\": \"object\",\n        \"num_unique_values\": 10000,\n        \"samples\": [\n          \"2024-09-17 12:00:00\",\n          \"2024-07-14 04:00:00\",\n          \"2024-03-13 03:00:00\"\n        ],\n        \"semantic_type\": \"\",\n        \"description\": \"\"\n      }\n    },\n    {\n      \"column\": \"Fatalities\",\n      \"properties\": {\n        \"dtype\": \"number\",\n        \"std\": 2900,\n        \"min\": 0,\n        \"max\": 9999,\n        \"num_unique_values\": 6314,\n        \"samples\": [\n          1766,\n          5637,\n          5148\n        ],\n        \"semantic_type\": \"\",\n        \"description\": \"\"\n      }\n    },\n    {\n      \"column\": \"Economic_Loss($)\",\n      \"properties\": {\n        \"dtype\": \"number\",\n        \"std\": 286132461.91949147,\n        \"min\": 1036596.7290369415,\n        \"max\": 999852819.1345603,\n        \"num_unique_values\": 10000,\n        \"samples\": [\n          656175008.6569316,\n          748928884.2965131,\n          361705352.5451594\n        ],\n        \"semantic_type\": \"\",\n        \"description\": \"\"\n      }\n    }\n  ]\n}"
            }
          },
          "metadata": {},
          "execution_count": 3
        }
      ]
    },
    {
      "cell_type": "code",
      "source": [
        "from sklearn.model_selection import train_test_split\n",
        "from sklearn.preprocessing import LabelEncoder, StandardScaler\n",
        "from sklearn.impute import SimpleImputer"
      ],
      "metadata": {
        "id": "AWbQCwtTikOK"
      },
      "execution_count": 4,
      "outputs": []
    },
    {
      "cell_type": "code",
      "source": [
        "#Coverting date to datetime format\n",
        "df['Date'] = pd.to_datetime(df['Date'])"
      ],
      "metadata": {
        "id": "X5hbu_7lj805"
      },
      "execution_count": 5,
      "outputs": []
    },
    {
      "cell_type": "code",
      "source": [
        "df.describe()"
      ],
      "metadata": {
        "colab": {
          "base_uri": "https://localhost:8080/",
          "height": 300
        },
        "id": "euVaeBfkkeez",
        "outputId": "788a4f56-d6be-416a-ba4c-9b87ad55b314"
      },
      "execution_count": 6,
      "outputs": [
        {
          "output_type": "execute_result",
          "data": {
            "text/plain": [
              "       Disaster_ID     Magnitude                 Date    Fatalities  \\\n",
              "count  10000.00000  10000.000000                10000  10000.000000   \n",
              "mean    5000.50000      5.559173  2024-07-27 07:30:00   4984.928900   \n",
              "min        1.00000      1.000656  2024-01-01 00:00:00      0.000000   \n",
              "25%     2500.75000      3.263217  2024-04-14 03:45:00   2481.750000   \n",
              "50%     5000.50000      5.589578  2024-07-27 07:30:00   4947.000000   \n",
              "75%     7500.25000      7.829268  2024-11-08 11:15:00   7511.250000   \n",
              "max    10000.00000      9.999671  2025-02-20 15:00:00   9999.000000   \n",
              "std     2886.89568      2.619304                  NaN   2900.114029   \n",
              "\n",
              "       Economic_Loss($)  \n",
              "count      1.000000e+04  \n",
              "mean       5.049752e+08  \n",
              "min        1.036597e+06  \n",
              "25%        2.636352e+08  \n",
              "50%        5.078407e+08  \n",
              "75%        7.527256e+08  \n",
              "max        9.998528e+08  \n",
              "std        2.861325e+08  "
            ],
            "text/html": [
              "\n",
              "  <div id=\"df-8f380f6e-b9d8-4707-b6a3-7442030dacc2\" class=\"colab-df-container\">\n",
              "    <div>\n",
              "<style scoped>\n",
              "    .dataframe tbody tr th:only-of-type {\n",
              "        vertical-align: middle;\n",
              "    }\n",
              "\n",
              "    .dataframe tbody tr th {\n",
              "        vertical-align: top;\n",
              "    }\n",
              "\n",
              "    .dataframe thead th {\n",
              "        text-align: right;\n",
              "    }\n",
              "</style>\n",
              "<table border=\"1\" class=\"dataframe\">\n",
              "  <thead>\n",
              "    <tr style=\"text-align: right;\">\n",
              "      <th></th>\n",
              "      <th>Disaster_ID</th>\n",
              "      <th>Magnitude</th>\n",
              "      <th>Date</th>\n",
              "      <th>Fatalities</th>\n",
              "      <th>Economic_Loss($)</th>\n",
              "    </tr>\n",
              "  </thead>\n",
              "  <tbody>\n",
              "    <tr>\n",
              "      <th>count</th>\n",
              "      <td>10000.00000</td>\n",
              "      <td>10000.000000</td>\n",
              "      <td>10000</td>\n",
              "      <td>10000.000000</td>\n",
              "      <td>1.000000e+04</td>\n",
              "    </tr>\n",
              "    <tr>\n",
              "      <th>mean</th>\n",
              "      <td>5000.50000</td>\n",
              "      <td>5.559173</td>\n",
              "      <td>2024-07-27 07:30:00</td>\n",
              "      <td>4984.928900</td>\n",
              "      <td>5.049752e+08</td>\n",
              "    </tr>\n",
              "    <tr>\n",
              "      <th>min</th>\n",
              "      <td>1.00000</td>\n",
              "      <td>1.000656</td>\n",
              "      <td>2024-01-01 00:00:00</td>\n",
              "      <td>0.000000</td>\n",
              "      <td>1.036597e+06</td>\n",
              "    </tr>\n",
              "    <tr>\n",
              "      <th>25%</th>\n",
              "      <td>2500.75000</td>\n",
              "      <td>3.263217</td>\n",
              "      <td>2024-04-14 03:45:00</td>\n",
              "      <td>2481.750000</td>\n",
              "      <td>2.636352e+08</td>\n",
              "    </tr>\n",
              "    <tr>\n",
              "      <th>50%</th>\n",
              "      <td>5000.50000</td>\n",
              "      <td>5.589578</td>\n",
              "      <td>2024-07-27 07:30:00</td>\n",
              "      <td>4947.000000</td>\n",
              "      <td>5.078407e+08</td>\n",
              "    </tr>\n",
              "    <tr>\n",
              "      <th>75%</th>\n",
              "      <td>7500.25000</td>\n",
              "      <td>7.829268</td>\n",
              "      <td>2024-11-08 11:15:00</td>\n",
              "      <td>7511.250000</td>\n",
              "      <td>7.527256e+08</td>\n",
              "    </tr>\n",
              "    <tr>\n",
              "      <th>max</th>\n",
              "      <td>10000.00000</td>\n",
              "      <td>9.999671</td>\n",
              "      <td>2025-02-20 15:00:00</td>\n",
              "      <td>9999.000000</td>\n",
              "      <td>9.998528e+08</td>\n",
              "    </tr>\n",
              "    <tr>\n",
              "      <th>std</th>\n",
              "      <td>2886.89568</td>\n",
              "      <td>2.619304</td>\n",
              "      <td>NaN</td>\n",
              "      <td>2900.114029</td>\n",
              "      <td>2.861325e+08</td>\n",
              "    </tr>\n",
              "  </tbody>\n",
              "</table>\n",
              "</div>\n",
              "    <div class=\"colab-df-buttons\">\n",
              "\n",
              "  <div class=\"colab-df-container\">\n",
              "    <button class=\"colab-df-convert\" onclick=\"convertToInteractive('df-8f380f6e-b9d8-4707-b6a3-7442030dacc2')\"\n",
              "            title=\"Convert this dataframe to an interactive table.\"\n",
              "            style=\"display:none;\">\n",
              "\n",
              "  <svg xmlns=\"http://www.w3.org/2000/svg\" height=\"24px\" viewBox=\"0 -960 960 960\">\n",
              "    <path d=\"M120-120v-720h720v720H120Zm60-500h600v-160H180v160Zm220 220h160v-160H400v160Zm0 220h160v-160H400v160ZM180-400h160v-160H180v160Zm440 0h160v-160H620v160ZM180-180h160v-160H180v160Zm440 0h160v-160H620v160Z\"/>\n",
              "  </svg>\n",
              "    </button>\n",
              "\n",
              "  <style>\n",
              "    .colab-df-container {\n",
              "      display:flex;\n",
              "      gap: 12px;\n",
              "    }\n",
              "\n",
              "    .colab-df-convert {\n",
              "      background-color: #E8F0FE;\n",
              "      border: none;\n",
              "      border-radius: 50%;\n",
              "      cursor: pointer;\n",
              "      display: none;\n",
              "      fill: #1967D2;\n",
              "      height: 32px;\n",
              "      padding: 0 0 0 0;\n",
              "      width: 32px;\n",
              "    }\n",
              "\n",
              "    .colab-df-convert:hover {\n",
              "      background-color: #E2EBFA;\n",
              "      box-shadow: 0px 1px 2px rgba(60, 64, 67, 0.3), 0px 1px 3px 1px rgba(60, 64, 67, 0.15);\n",
              "      fill: #174EA6;\n",
              "    }\n",
              "\n",
              "    .colab-df-buttons div {\n",
              "      margin-bottom: 4px;\n",
              "    }\n",
              "\n",
              "    [theme=dark] .colab-df-convert {\n",
              "      background-color: #3B4455;\n",
              "      fill: #D2E3FC;\n",
              "    }\n",
              "\n",
              "    [theme=dark] .colab-df-convert:hover {\n",
              "      background-color: #434B5C;\n",
              "      box-shadow: 0px 1px 3px 1px rgba(0, 0, 0, 0.15);\n",
              "      filter: drop-shadow(0px 1px 2px rgba(0, 0, 0, 0.3));\n",
              "      fill: #FFFFFF;\n",
              "    }\n",
              "  </style>\n",
              "\n",
              "    <script>\n",
              "      const buttonEl =\n",
              "        document.querySelector('#df-8f380f6e-b9d8-4707-b6a3-7442030dacc2 button.colab-df-convert');\n",
              "      buttonEl.style.display =\n",
              "        google.colab.kernel.accessAllowed ? 'block' : 'none';\n",
              "\n",
              "      async function convertToInteractive(key) {\n",
              "        const element = document.querySelector('#df-8f380f6e-b9d8-4707-b6a3-7442030dacc2');\n",
              "        const dataTable =\n",
              "          await google.colab.kernel.invokeFunction('convertToInteractive',\n",
              "                                                    [key], {});\n",
              "        if (!dataTable) return;\n",
              "\n",
              "        const docLinkHtml = 'Like what you see? Visit the ' +\n",
              "          '<a target=\"_blank\" href=https://colab.research.google.com/notebooks/data_table.ipynb>data table notebook</a>'\n",
              "          + ' to learn more about interactive tables.';\n",
              "        element.innerHTML = '';\n",
              "        dataTable['output_type'] = 'display_data';\n",
              "        await google.colab.output.renderOutput(dataTable, element);\n",
              "        const docLink = document.createElement('div');\n",
              "        docLink.innerHTML = docLinkHtml;\n",
              "        element.appendChild(docLink);\n",
              "      }\n",
              "    </script>\n",
              "  </div>\n",
              "\n",
              "\n",
              "<div id=\"df-77f4a544-a59f-4e50-bef3-f473e100e9e8\">\n",
              "  <button class=\"colab-df-quickchart\" onclick=\"quickchart('df-77f4a544-a59f-4e50-bef3-f473e100e9e8')\"\n",
              "            title=\"Suggest charts\"\n",
              "            style=\"display:none;\">\n",
              "\n",
              "<svg xmlns=\"http://www.w3.org/2000/svg\" height=\"24px\"viewBox=\"0 0 24 24\"\n",
              "     width=\"24px\">\n",
              "    <g>\n",
              "        <path d=\"M19 3H5c-1.1 0-2 .9-2 2v14c0 1.1.9 2 2 2h14c1.1 0 2-.9 2-2V5c0-1.1-.9-2-2-2zM9 17H7v-7h2v7zm4 0h-2V7h2v10zm4 0h-2v-4h2v4z\"/>\n",
              "    </g>\n",
              "</svg>\n",
              "  </button>\n",
              "\n",
              "<style>\n",
              "  .colab-df-quickchart {\n",
              "      --bg-color: #E8F0FE;\n",
              "      --fill-color: #1967D2;\n",
              "      --hover-bg-color: #E2EBFA;\n",
              "      --hover-fill-color: #174EA6;\n",
              "      --disabled-fill-color: #AAA;\n",
              "      --disabled-bg-color: #DDD;\n",
              "  }\n",
              "\n",
              "  [theme=dark] .colab-df-quickchart {\n",
              "      --bg-color: #3B4455;\n",
              "      --fill-color: #D2E3FC;\n",
              "      --hover-bg-color: #434B5C;\n",
              "      --hover-fill-color: #FFFFFF;\n",
              "      --disabled-bg-color: #3B4455;\n",
              "      --disabled-fill-color: #666;\n",
              "  }\n",
              "\n",
              "  .colab-df-quickchart {\n",
              "    background-color: var(--bg-color);\n",
              "    border: none;\n",
              "    border-radius: 50%;\n",
              "    cursor: pointer;\n",
              "    display: none;\n",
              "    fill: var(--fill-color);\n",
              "    height: 32px;\n",
              "    padding: 0;\n",
              "    width: 32px;\n",
              "  }\n",
              "\n",
              "  .colab-df-quickchart:hover {\n",
              "    background-color: var(--hover-bg-color);\n",
              "    box-shadow: 0 1px 2px rgba(60, 64, 67, 0.3), 0 1px 3px 1px rgba(60, 64, 67, 0.15);\n",
              "    fill: var(--button-hover-fill-color);\n",
              "  }\n",
              "\n",
              "  .colab-df-quickchart-complete:disabled,\n",
              "  .colab-df-quickchart-complete:disabled:hover {\n",
              "    background-color: var(--disabled-bg-color);\n",
              "    fill: var(--disabled-fill-color);\n",
              "    box-shadow: none;\n",
              "  }\n",
              "\n",
              "  .colab-df-spinner {\n",
              "    border: 2px solid var(--fill-color);\n",
              "    border-color: transparent;\n",
              "    border-bottom-color: var(--fill-color);\n",
              "    animation:\n",
              "      spin 1s steps(1) infinite;\n",
              "  }\n",
              "\n",
              "  @keyframes spin {\n",
              "    0% {\n",
              "      border-color: transparent;\n",
              "      border-bottom-color: var(--fill-color);\n",
              "      border-left-color: var(--fill-color);\n",
              "    }\n",
              "    20% {\n",
              "      border-color: transparent;\n",
              "      border-left-color: var(--fill-color);\n",
              "      border-top-color: var(--fill-color);\n",
              "    }\n",
              "    30% {\n",
              "      border-color: transparent;\n",
              "      border-left-color: var(--fill-color);\n",
              "      border-top-color: var(--fill-color);\n",
              "      border-right-color: var(--fill-color);\n",
              "    }\n",
              "    40% {\n",
              "      border-color: transparent;\n",
              "      border-right-color: var(--fill-color);\n",
              "      border-top-color: var(--fill-color);\n",
              "    }\n",
              "    60% {\n",
              "      border-color: transparent;\n",
              "      border-right-color: var(--fill-color);\n",
              "    }\n",
              "    80% {\n",
              "      border-color: transparent;\n",
              "      border-right-color: var(--fill-color);\n",
              "      border-bottom-color: var(--fill-color);\n",
              "    }\n",
              "    90% {\n",
              "      border-color: transparent;\n",
              "      border-bottom-color: var(--fill-color);\n",
              "    }\n",
              "  }\n",
              "</style>\n",
              "\n",
              "  <script>\n",
              "    async function quickchart(key) {\n",
              "      const quickchartButtonEl =\n",
              "        document.querySelector('#' + key + ' button');\n",
              "      quickchartButtonEl.disabled = true;  // To prevent multiple clicks.\n",
              "      quickchartButtonEl.classList.add('colab-df-spinner');\n",
              "      try {\n",
              "        const charts = await google.colab.kernel.invokeFunction(\n",
              "            'suggestCharts', [key], {});\n",
              "      } catch (error) {\n",
              "        console.error('Error during call to suggestCharts:', error);\n",
              "      }\n",
              "      quickchartButtonEl.classList.remove('colab-df-spinner');\n",
              "      quickchartButtonEl.classList.add('colab-df-quickchart-complete');\n",
              "    }\n",
              "    (() => {\n",
              "      let quickchartButtonEl =\n",
              "        document.querySelector('#df-77f4a544-a59f-4e50-bef3-f473e100e9e8 button');\n",
              "      quickchartButtonEl.style.display =\n",
              "        google.colab.kernel.accessAllowed ? 'block' : 'none';\n",
              "    })();\n",
              "  </script>\n",
              "</div>\n",
              "\n",
              "    </div>\n",
              "  </div>\n"
            ],
            "application/vnd.google.colaboratory.intrinsic+json": {
              "type": "dataframe",
              "summary": "{\n  \"name\": \"df\",\n  \"rows\": 8,\n  \"fields\": [\n    {\n      \"column\": \"Disaster_ID\",\n      \"properties\": {\n        \"dtype\": \"number\",\n        \"std\": 3603.743586536124,\n        \"min\": 1.0,\n        \"max\": 10000.0,\n        \"num_unique_values\": 6,\n        \"samples\": [\n          10000.0,\n          5000.5,\n          2886.8956799071675\n        ],\n        \"semantic_type\": \"\",\n        \"description\": \"\"\n      }\n    },\n    {\n      \"column\": \"Magnitude\",\n      \"properties\": {\n        \"dtype\": \"number\",\n        \"std\": 3533.7238357401275,\n        \"min\": 1.0006555286603729,\n        \"max\": 10000.0,\n        \"num_unique_values\": 8,\n        \"samples\": [\n          5.559173075195438,\n          7.82926792801992,\n          10000.0\n        ],\n        \"semantic_type\": \"\",\n        \"description\": \"\"\n      }\n    },\n    {\n      \"column\": \"Date\",\n      \"properties\": {\n        \"dtype\": \"date\",\n        \"min\": \"1970-01-01 00:00:00.000010\",\n        \"max\": \"2025-02-20 15:00:00\",\n        \"num_unique_values\": 6,\n        \"samples\": [\n          \"10000\",\n          \"2024-07-27 07:30:00\",\n          \"2025-02-20 15:00:00\"\n        ],\n        \"semantic_type\": \"\",\n        \"description\": \"\"\n      }\n    },\n    {\n      \"column\": \"Fatalities\",\n      \"properties\": {\n        \"dtype\": \"number\",\n        \"std\": 3606.6132816569634,\n        \"min\": 0.0,\n        \"max\": 10000.0,\n        \"num_unique_values\": 8,\n        \"samples\": [\n          4984.9289,\n          7511.25,\n          10000.0\n        ],\n        \"semantic_type\": \"\",\n        \"description\": \"\"\n      }\n    },\n    {\n      \"column\": \"Economic_Loss($)\",\n      \"properties\": {\n        \"dtype\": \"number\",\n        \"std\": 349678436.93126816,\n        \"min\": 10000.0,\n        \"max\": 999852819.1345603,\n        \"num_unique_values\": 8,\n        \"samples\": [\n          504975202.46864885,\n          752725573.7766018,\n          10000.0\n        ],\n        \"semantic_type\": \"\",\n        \"description\": \"\"\n      }\n    }\n  ]\n}"
            }
          },
          "metadata": {},
          "execution_count": 6
        }
      ]
    },
    {
      "cell_type": "code",
      "source": [
        "df.dtypes"
      ],
      "metadata": {
        "colab": {
          "base_uri": "https://localhost:8080/",
          "height": 304
        },
        "id": "ipK3vyXTkXR_",
        "outputId": "edce5821-3049-4a3e-b5ee-1af5126a5947"
      },
      "execution_count": 7,
      "outputs": [
        {
          "output_type": "execute_result",
          "data": {
            "text/plain": [
              "Disaster_ID                  int64\n",
              "Disaster_Type               object\n",
              "Location                    object\n",
              "Magnitude                  float64\n",
              "Date                datetime64[ns]\n",
              "Fatalities                   int64\n",
              "Economic_Loss($)           float64\n",
              "dtype: object"
            ],
            "text/html": [
              "<div>\n",
              "<style scoped>\n",
              "    .dataframe tbody tr th:only-of-type {\n",
              "        vertical-align: middle;\n",
              "    }\n",
              "\n",
              "    .dataframe tbody tr th {\n",
              "        vertical-align: top;\n",
              "    }\n",
              "\n",
              "    .dataframe thead th {\n",
              "        text-align: right;\n",
              "    }\n",
              "</style>\n",
              "<table border=\"1\" class=\"dataframe\">\n",
              "  <thead>\n",
              "    <tr style=\"text-align: right;\">\n",
              "      <th></th>\n",
              "      <th>0</th>\n",
              "    </tr>\n",
              "  </thead>\n",
              "  <tbody>\n",
              "    <tr>\n",
              "      <th>Disaster_ID</th>\n",
              "      <td>int64</td>\n",
              "    </tr>\n",
              "    <tr>\n",
              "      <th>Disaster_Type</th>\n",
              "      <td>object</td>\n",
              "    </tr>\n",
              "    <tr>\n",
              "      <th>Location</th>\n",
              "      <td>object</td>\n",
              "    </tr>\n",
              "    <tr>\n",
              "      <th>Magnitude</th>\n",
              "      <td>float64</td>\n",
              "    </tr>\n",
              "    <tr>\n",
              "      <th>Date</th>\n",
              "      <td>datetime64[ns]</td>\n",
              "    </tr>\n",
              "    <tr>\n",
              "      <th>Fatalities</th>\n",
              "      <td>int64</td>\n",
              "    </tr>\n",
              "    <tr>\n",
              "      <th>Economic_Loss($)</th>\n",
              "      <td>float64</td>\n",
              "    </tr>\n",
              "  </tbody>\n",
              "</table>\n",
              "</div><br><label><b>dtype:</b> object</label>"
            ]
          },
          "metadata": {},
          "execution_count": 7
        }
      ]
    },
    {
      "cell_type": "code",
      "source": [
        "#Encoding categorical variables like 'Disaster_type' and 'Location'\n",
        "le_disaster = LabelEncoder()\n",
        "le_location = LabelEncoder()\n",
        "df['Disaster_Type'] = le_disaster.fit_transform(df['Disaster_Type'])\n",
        "df['Location'] = le_location.fit_transform(df['Location'])"
      ],
      "metadata": {
        "id": "jBf4N9SeluDp"
      },
      "execution_count": 8,
      "outputs": []
    },
    {
      "cell_type": "code",
      "source": [
        "df.isnull().sum()"
      ],
      "metadata": {
        "colab": {
          "base_uri": "https://localhost:8080/",
          "height": 304
        },
        "id": "8Z-6tm6moQzf",
        "outputId": "cd830034-cc64-44c8-fd44-49719c794ced"
      },
      "execution_count": 9,
      "outputs": [
        {
          "output_type": "execute_result",
          "data": {
            "text/plain": [
              "Disaster_ID         0\n",
              "Disaster_Type       0\n",
              "Location            0\n",
              "Magnitude           0\n",
              "Date                0\n",
              "Fatalities          0\n",
              "Economic_Loss($)    0\n",
              "dtype: int64"
            ],
            "text/html": [
              "<div>\n",
              "<style scoped>\n",
              "    .dataframe tbody tr th:only-of-type {\n",
              "        vertical-align: middle;\n",
              "    }\n",
              "\n",
              "    .dataframe tbody tr th {\n",
              "        vertical-align: top;\n",
              "    }\n",
              "\n",
              "    .dataframe thead th {\n",
              "        text-align: right;\n",
              "    }\n",
              "</style>\n",
              "<table border=\"1\" class=\"dataframe\">\n",
              "  <thead>\n",
              "    <tr style=\"text-align: right;\">\n",
              "      <th></th>\n",
              "      <th>0</th>\n",
              "    </tr>\n",
              "  </thead>\n",
              "  <tbody>\n",
              "    <tr>\n",
              "      <th>Disaster_ID</th>\n",
              "      <td>0</td>\n",
              "    </tr>\n",
              "    <tr>\n",
              "      <th>Disaster_Type</th>\n",
              "      <td>0</td>\n",
              "    </tr>\n",
              "    <tr>\n",
              "      <th>Location</th>\n",
              "      <td>0</td>\n",
              "    </tr>\n",
              "    <tr>\n",
              "      <th>Magnitude</th>\n",
              "      <td>0</td>\n",
              "    </tr>\n",
              "    <tr>\n",
              "      <th>Date</th>\n",
              "      <td>0</td>\n",
              "    </tr>\n",
              "    <tr>\n",
              "      <th>Fatalities</th>\n",
              "      <td>0</td>\n",
              "    </tr>\n",
              "    <tr>\n",
              "      <th>Economic_Loss($)</th>\n",
              "      <td>0</td>\n",
              "    </tr>\n",
              "  </tbody>\n",
              "</table>\n",
              "</div><br><label><b>dtype:</b> int64</label>"
            ]
          },
          "metadata": {},
          "execution_count": 9
        }
      ]
    },
    {
      "cell_type": "code",
      "source": [
        "#Handling missing values(if any) using SimpleImputer\n",
        "imputer = SimpleImputer(strategy='mean')\n",
        "df['Magnitude'] = imputer.fit_transform(df[['Magnitude']])"
      ],
      "metadata": {
        "id": "pNcx0xYgohnI"
      },
      "execution_count": 10,
      "outputs": []
    },
    {
      "cell_type": "code",
      "source": [
        "#Standardize numerical columns for better performance in same models\n",
        "scaler = StandardScaler()\n",
        "#Fitting and transform the selected columns\n",
        "scaled_data = scaler.fit_transform(df[['Magnitude', 'Fatalities', 'Economic_Loss($)']])\n",
        "#Assigning the transformed values back to the dataframe\n",
        "df[['Magnitude', 'Fatalities', 'Economic_Loss($)']] = scaled_data"
      ],
      "metadata": {
        "id": "Oqy_ibO1pYDO"
      },
      "execution_count": 11,
      "outputs": []
    },
    {
      "cell_type": "code",
      "source": [
        "#Splitting the data\n",
        "#Feature(X) will include columns like Disaster_Type, Location, Magnitude, and Date\n",
        "#Target(y): Will predict Fatalities and Economic_Loss\n",
        "X = df.drop(['Fatalities', 'Economic_Loss($)', 'Disaster_ID'], axis = 1)\n",
        "y_fatalities = df['Fatalities']\n",
        "y_economic_loss = df['Economic_Loss($)']\n",
        "#Splitting data into train and test split\n",
        "X_train, X_test, y_train_fatalities, y_test_fatalities = train_test_split(X, y_fatalities, test_size = 0.2, random_state = 42)\n",
        "X_train_loss, X_test_loss, y_train_loss, y_test_loss = train_test_split(X, y_economic_loss, test_size = 0.2, random_state = 42)"
      ],
      "metadata": {
        "id": "u6mupemvqHyu"
      },
      "execution_count": 12,
      "outputs": []
    },
    {
      "cell_type": "markdown",
      "source": [
        "Exploratory Data Analysis(EDA)"
      ],
      "metadata": {
        "id": "1_nIlv0Avble"
      }
    },
    {
      "cell_type": "code",
      "source": [
        "#Visualizing the data\n",
        "import seaborn as sns\n",
        "import matplotlib.pyplot as plt\n",
        "#Distribution of disaster typest\n",
        "plt.figure(figsize = (10, 6))\n",
        "sns.countplot(x='Disaster_Type', data = df)\n",
        "plt.title('Distribution of Disaster Types')\n",
        "plt.show()\n",
        "#Correlation heatmap\n",
        "plt.figure(figsize = (10, 6))\n",
        "sns.heatmap(df.select_dtypes(include=['number']).corr(), annot = True, cmap='coolwarm')\n",
        "plt.title('Correlation Heatmap')\n",
        "plt.show()\n",
        "#Time-Series Analysis\n",
        "#Convert 'Date' column to datetime objects\n",
        "df['Date'] = pd.to_datetime(df['Date']) # Convert to Datetime\n",
        "\n",
        "df.set_index('Date').resample('M').count()['Disaster_ID'].plot()\n",
        "plt.title('Disaster Occurences Over Time')\n",
        "plt.show()"
      ],
      "metadata": {
        "colab": {
          "base_uri": "https://localhost:8080/",
          "height": 1000
        },
        "id": "U9hlATkDu-2i",
        "outputId": "122ba6c3-e20f-472c-c7e2-75bebd11da89"
      },
      "execution_count": 13,
      "outputs": [
        {
          "output_type": "display_data",
          "data": {
            "text/plain": [
              "<Figure size 1000x600 with 1 Axes>"
            ],
            "image/png": "[encoded data removed]"
          },
          "metadata": {}
        },
        {
          "output_type": "display_data",
          "data": {
            "text/plain": [
              "<Figure size 1000x600 with 2 Axes>"
            ],
            "image/png": "[encoded data removed]"
          },
          "metadata": {}
        },
        {
          "output_type": "stream",
          "name": "stderr",
          "text": [
            "<ipython-input-13-fdee1af109a6>:18: FutureWarning: 'M' is deprecated and will be removed in a future version, please use 'ME' instead.\n",
            "  df.set_index('Date').resample('M').count()['Disaster_ID'].plot()\n"
          ]
        },
        {
          "output_type": "display_data",
          "data": {
            "text/plain": [
              "<Figure size 640x480 with 1 Axes>"
            ],
            "image/png": "[encoded data removed]"
          },
          "metadata": {}
        }
      ]
    },
    {
      "cell_type": "markdown",
      "source": [
        "Baseline Machine Learning model"
      ],
      "metadata": {
        "id": "mGleUzudetJa"
      }
    },
    {
      "cell_type": "code",
      "source": [
        "#Linear Regression for economic loss\n",
        "from sklearn.linear_model import LinearRegression\n",
        "from sklearn.metrics import mean_squared_error, r2_score\n",
        "import pandas as pd\n",
        "#Initializing the model\n",
        "lr = LinearRegression()\n",
        "#Convert 'Date' column back to numerical representation for Linear Regression:\n",
        "#Extract features from the 'Date' column\n",
        "X_train_loss['Year'] = X_train_loss['Date'].dt.year\n",
        "X_train_loss['Month'] = X_train_loss['Date'].dt.month\n",
        "X_train_loss['Day'] = X_train_loss['Date'].dt.day\n",
        "\n",
        "#Drop the original 'Date' column\n",
        "X_train_loss = X_train_loss.drop('Date', axis=1)\n",
        "\n",
        "#Now, fit the model\n",
        "lr.fit(X_train_loss, y_train_loss)\n",
        "\n",
        "\n",
        "#Predict and Evaluate\n",
        "X_test_loss['Year'] = X_test_loss['Date'].dt.year\n",
        "X_test_loss['Month'] = X_test_loss['Date'].dt.month\n",
        "X_test_loss['Day'] = X_test_loss['Date'].dt.day\n",
        "X_test_loss = X_test_loss.drop('Date', axis=1)\n",
        "\n",
        "y_pred_lr = lr.predict(X_test_loss)\n",
        "mse_lr = mean_squared_error(y_test_loss, y_pred_lr)\n",
        "r2_lr = r2_score(y_test_loss, y_pred_lr)\n",
        "\n",
        "print(f'Linear Regression - MSE: {mse_lr}')\n",
        "print(f'Linear Regression - R2 Score: {r2_lr}')"
      ],
      "metadata": {
        "id": "xZDJ6_Vbx44f",
        "colab": {
          "base_uri": "https://localhost:8080/"
        },
        "outputId": "85d30b32-32f7-4b58-ecf0-e143eac341fa"
      },
      "execution_count": 15,
      "outputs": [
        {
          "output_type": "stream",
          "name": "stdout",
          "text": [
            "Linear Regression - MSE: 1.0253175951041575\n",
            "Linear Regression - R2 Score: -0.003699052183806506\n"
          ]
        }
      ]
    },
    {
      "cell_type": "markdown",
      "source": [
        "Random Forest for Fatalities"
      ],
      "metadata": {
        "id": "G2uVMmrwhUoB"
      }
    },
    {
      "cell_type": "code",
      "source": [
        "from sklearn.ensemble import RandomForestRegressor\n",
        "\n",
        "#Initialise and train the model\n",
        "rf = RandomForestRegressor(random_state=42)\n",
        "# Check if 'Date' column exists in X_train before proceeding\n",
        "if 'Date' in X_train.columns:\n",
        "    #Ensure X_train has the same feature engineering as in your Linear Regression code:\n",
        "    X_train['Year'] = X_train['Date'].dt.year\n",
        "    X_train['Month'] = X_train['Date'].dt.month\n",
        "    X_train['Day'] = X_train['Date'].dt.day\n",
        "    X_train = X_train.drop('Date', axis=1)  # Drop original 'Date'\n",
        "else:\n",
        "    print(\"Warning: 'Date' column not found in X_train. Feature engineering skipped.\")\n",
        "\n",
        "rf.fit(X_train, y_train_fatalities)\n",
        "\n",
        "#Predict and Evaluate\n",
        "#Apply the same feature engineering to X_test:\n",
        "if 'Date' in X_test.columns:\n",
        "    X_test['Year'] = X_test['Date'].dt.year\n",
        "    X_test['Month'] = X_test['Date'].dt.month\n",
        "    X_test['Day'] = X_test['Date'].dt.day\n",
        "    X_test = X_test.drop('Date', axis=1)  # Drop original 'Date'\n",
        "else:\n",
        "    print(\"Warning: 'Date' column not found in X_test. Feature engineering skipped.\")\n",
        "\n",
        "\n",
        "y_pred_rf = rf.predict(X_test)  # Predict fatalities\n",
        "mse_rf = mean_squared_error(y_test_fatalities, y_pred_rf)\n",
        "r2_rf = r2_score(y_test_fatalities, y_pred_rf)\n",
        "\n",
        "\n",
        "print(f'Random Forest - MSE: {mse_rf}')\n",
        "print(f'Random Forest - R2 Score: {r2_rf}')"
      ],
      "metadata": {
        "colab": {
          "base_uri": "https://localhost:8080/"
        },
        "id": "w6si20UCgdmf",
        "outputId": "d19efa86-9e11-4161-8309-5952043636a3"
      },
      "execution_count": 21,
      "outputs": [
        {
          "output_type": "stream",
          "name": "stdout",
          "text": [
            "Warning: 'Date' column not found in X_train. Feature engineering skipped.\n",
            "Warning: 'Date' column not found in X_test. Feature engineering skipped.\n",
            "Random Forest - MSE: 1.111035261696997\n",
            "Random Forest - R2 Score: -0.08610172070064248\n"
          ]
        }
      ]
    },
    {
      "cell_type": "markdown",
      "source": [
        "Support Vector Machines for economic loss"
      ],
      "metadata": {
        "id": "pbSdXToNj4KW"
      }
    },
    {
      "cell_type": "code",
      "source": [
        "from sklearn.svm import SVR\n",
        "#Iniitialising and training the model\n",
        "svr = SVR(kernel = 'rbf', C=10, gamma = 'auto')\n",
        "svr.fit(X_train_loss, y_train_loss)\n",
        "\n",
        "#Predict and Evaluate\n",
        "y_pred_svr = svr.predict(X_test_loss)\n",
        "mse_svr = mean_squared_error(y_test_loss, y_pred_svr)\n",
        "r2_svr = r2_score(y_test_loss, y_pred_svr)\n",
        "\n",
        "print(f'Support Vector Machines - MSE: {mse_svr}')\n",
        "print(f'Support Vector Machines - R2 Score: {r2_svr}')\n",
        "\n"
      ],
      "metadata": {
        "colab": {
          "base_uri": "https://localhost:8080/"
        },
        "id": "Y2ogV977jxhr",
        "outputId": "67a0a2b9-0b1f-4a7b-e571-2c670e7fe081"
      },
      "execution_count": 22,
      "outputs": [
        {
          "output_type": "stream",
          "name": "stdout",
          "text": [
            "Support Vector Machines - MSE: 1.536370318315622\n",
            "Support Vector Machines - R2 Score: -0.5039763675762072\n"
          ]
        }
      ]
    },
    {
      "cell_type": "markdown",
      "source": [
        "Neural Networks (MLP) for fatalities"
      ],
      "metadata": {
        "id": "KBmsHCQRlngF"
      }
    },
    {
      "cell_type": "code",
      "source": [
        "from sklearn.neural_network import MLPRegressor\n",
        "#Initializing and training the MPL\n",
        "mlp = MLPRegressor(hidden_layer_sizes=(50, 100), activation = 'relu', solver = 'adam', max_iter = 500, random_state = 42)\n",
        "mlp.fit(X_train, y_train_fatalities)\n",
        "\n",
        "#Predict and Evaluate\n",
        "y_pred_mlp = mlp.predict(X_test)\n",
        "mse_mlp = mean_squared_error(y_test_fatalities, y_pred_mlp)\n",
        "r2_mlp = r2_score(y_test_fatalities, y_pred_mlp)\n",
        "\n",
        "print(f'Neural Networks - MSE: {mse_mlp}')\n",
        "print(f'Neural Networks - R2 Score: {r2_mlp}')"
      ],
      "metadata": {
        "colab": {
          "base_uri": "https://localhost:8080/"
        },
        "id": "PbuQ2C_elmvx",
        "outputId": "e9db8fb4-405f-470d-9982-a9cd4223c75e"
      },
      "execution_count": 23,
      "outputs": [
        {
          "output_type": "stream",
          "name": "stdout",
          "text": [
            "Neural Networks - MSE: 1.2398799831026384\n",
            "Neural Networks - R2 Score: -0.2120549450907665\n"
          ]
        }
      ]
    },
    {
      "cell_type": "markdown",
      "source": [
        "Gradient Boosting for economic loss"
      ],
      "metadata": {
        "id": "n9K6jSTbnxLy"
      }
    },
    {
      "cell_type": "code",
      "source": [
        "from sklearn.ensemble import GradientBoostingRegressor\n",
        "\n",
        "#Initializing and training the model\n",
        "gbr = GradientBoostingRegressor(random_state=42)\n",
        "gbr.fit(X_train_loss, y_train_loss)\n",
        "\n",
        "#Predicting and evaluating\n",
        "y_pred_gbr = gbr.predict(X_test_loss)\n",
        "mse_gbr = mean_squared_error(y_test_loss, y_pred_gbr)\n",
        "r2_gbr = r2_score(y_test_loss, y_pred_gbr)\n",
        "\n",
        "print(f'Gradient Boosting - MSE: {mse_gbr}')\n",
        "print(f'Gradient Boosting - R2 Score: {r2_gbr}')"
      ],
      "metadata": {
        "colab": {
          "base_uri": "https://localhost:8080/"
        },
        "id": "9CLwhNOxnw0j",
        "outputId": "c9754270-a2c6-4798-8465-6830cf3fb854"
      },
      "execution_count": 24,
      "outputs": [
        {
          "output_type": "stream",
          "name": "stdout",
          "text": [
            "Gradient Boosting - MSE: 1.0362713836113384\n",
            "Gradient Boosting - R2 Score: -0.014421883036389804\n"
          ]
        }
      ]
    },
    {
      "cell_type": "markdown",
      "source": [
        "Hyperparameter tuning for Random forest"
      ],
      "metadata": {
        "id": "Ui5UAU9wo3RX"
      }
    },
    {
      "cell_type": "code",
      "source": [
        "from sklearn.model_selection import GridSearchCV\n",
        "\n",
        "#Defining parameter grid\n",
        "param_grid_rf = {\n",
        "    'n_estimators' : [100, 200, 300],\n",
        "    'max_depth' : [None, 10, 20],\n",
        "    'min_samples_split' : [2, 5, 10]\n",
        "}\n",
        "#Iniliazing GridSearchCV\n",
        "grid_search_rf = GridSearchCV(estimator = RandomForestRegressor(random_state=42), param_grid = param_grid_rf, cv = 5, scoring = 'neg_mean_squared_error')\n",
        "grid_search_rf.fit(X_train_loss, y_train_loss)\n",
        "\n",
        "#Best Parameters\n",
        "print(f'Best Parameters for Random Forest: {grid_search_rf.best_params_}')"
      ],
      "metadata": {
        "colab": {
          "base_uri": "https://localhost:8080/"
        },
        "id": "KSB144NForSc",
        "outputId": "faa15670-3275-414d-f369-ebe148b988f9"
      },
      "execution_count": 25,
      "outputs": [
        {
          "output_type": "stream",
          "name": "stdout",
          "text": [
            "Best Parameters for Random Forest: {'max_depth': 10, 'min_samples_split': 10, 'n_estimators': 200}\n"
          ]
        }
      ]
    },
    {
      "cell_type": "markdown",
      "source": [
        "Hyperparameter tuning for MLP"
      ],
      "metadata": {
        "id": "mLvK6iEuqe0D"
      }
    },
    {
      "cell_type": "code",
      "source": [
        "param_grid_mlp = {\n",
        "    'hidden_layer_sizes': [(50,), (100,)],\n",
        "    'activation': ['relu', 'tanh'],\n",
        "    'solver': ['adam', 'sgd'],\n",
        "    'alpha': [0.0001, 0.001],\n",
        "    'learning_rate': ['constant', 'adaptive']\n",
        "}\n",
        "#Initializing Grid Search CV\n",
        "grid_search_mlp = GridSearchCV(estimator=MLPRegressor(max_iter=1000, random_state=42), param_grid=param_grid_mlp, cv=5, scoring='neg_mean_squared_error')\n",
        "grid_search_mlp.fit(X_train, y_train_fatalities)\n",
        "\n",
        "# Best parameters\n",
        "print(\"Best parameters for MLP:\", grid_search_mlp.best_params_)"
      ],
      "metadata": {
        "colab": {
          "base_uri": "https://localhost:8080/"
        },
        "id": "T_fkv6-jqfSz",
        "outputId": "ac022112-c721-4f5e-95b7-e62575f77766"
      },
      "execution_count": 26,
      "outputs": [
        {
          "output_type": "stream",
          "name": "stdout",
          "text": [
            "Best parameters for MLP: {'activation': 'tanh', 'alpha': 0.001, 'hidden_layer_sizes': (50,), 'learning_rate': 'adaptive', 'solver': 'sgd'}\n"
          ]
        }
      ]
    },
    {
      "cell_type": "markdown",
      "source": [
        "Best Random Forest model"
      ],
      "metadata": {
        "id": "MIptsV4utUtw"
      }
    },
    {
      "cell_type": "code",
      "source": [
        "rf_best = RandomForestRegressor(max_depth=10, min_samples_split=10, n_estimators=200, random_state=42)\n",
        "rf_best.fit(X_train, y_train_fatalities)\n",
        "y_rf_best_pred = rf_best.predict(X_test)\n",
        "mse_rf_best = mean_squared_error(y_test_fatalities, y_rf_best_pred)\n",
        "r2_rf_best = r2_score(y_test_fatalities, y_rf_best_pred)\n",
        "print(f'Best Random Forest - MSE: {mse_rf_best}')\n",
        "print(f'Best Random Forest - R2 Score: {r2_rf_best}')"
      ],
      "metadata": {
        "colab": {
          "base_uri": "https://localhost:8080/"
        },
        "id": "i6QWuwSQtUY0",
        "outputId": "d1f65740-e995-44e3-e304-3a275f2471a3"
      },
      "execution_count": 27,
      "outputs": [
        {
          "output_type": "stream",
          "name": "stdout",
          "text": [
            "Best Random Forest - MSE: 1.0386437698942108\n",
            "Best Random Forest - R2 Score: -0.015334818405389417\n"
          ]
        }
      ]
    },
    {
      "cell_type": "markdown",
      "source": [
        "Best MLP Model"
      ],
      "metadata": {
        "id": "8UX6L0HHyM_z"
      }
    },
    {
      "cell_type": "code",
      "source": [
        "mlp_best = MLPRegressor(activation='tanh', alpha=0.001, hidden_layer_sizes=(50,), learning_rate='adaptive', solver='sgd', random_state=42)\n",
        "mlp_best.fit(X_train, y_train_fatalities)\n",
        "y_mlp_best_pred = mlp_best.predict(X_test)\n",
        "mse_mlp_best = mean_squared_error(y_test_fatalities, y_mlp_best_pred)\n",
        "r2_mlp_best = r2_score(y_test_fatalities, y_mlp_best_pred)\n",
        "print(f'Best MLP - MSE: {mse_mlp_best}')\n",
        "print(f'Best MLP - R2 Score: {r2_mlp_best}')"
      ],
      "metadata": {
        "colab": {
          "base_uri": "https://localhost:8080/"
        },
        "id": "mmDSNeq4yMvh",
        "outputId": "34a1c32a-d922-4ab5-84d4-d20a70e631c8"
      },
      "execution_count": 29,
      "outputs": [
        {
          "output_type": "stream",
          "name": "stdout",
          "text": [
            "Best MLP - MSE: 1.0231418246350337\n",
            "Best MLP - R2 Score: -0.00018076344363859853\n"
          ]
        }
      ]
    },
    {
      "cell_type": "code",
      "source": [
        "import xgboost as xgb\n",
        "from xgboost import XGBRegressor\n",
        "# Setting up the parameter grid for tuning XGBoost\n",
        "xgb_params = {\n",
        "    'learning_rate': [0.01, 0.1, 0.2],\n",
        "    'max_depth': [3, 5, 7],\n",
        "    'n_estimators': [100, 200, 300],\n",
        "    'subsample': [0.7, 0.8, 1.0]\n",
        "}\n",
        "\n",
        "# XGBoost model initialization\n",
        "xgb_model = XGBRegressor(objective='reg:squarederror', random_state=42)\n",
        "\n",
        "# GridSearchCV for hyperparameter tuning\n",
        "xgb_grid_loss = GridSearchCV(estimator=xgb_model, param_grid=xgb_params, scoring='neg_mean_squared_error', cv=5, n_jobs=-1, verbose=1)\n",
        "xgb_grid_fatalities = GridSearchCV(estimator=xgb_model, param_grid=xgb_params, scoring='neg_mean_squared_error', cv=5, n_jobs=-1, verbose=1)\n",
        "\n",
        "# Fitting the model to predict Economic Loss\n",
        "xgb_grid_loss.fit(X_train_loss, y_train_loss)\n",
        "best_xgb_loss = xgb_grid_loss.best_estimator_\n",
        "\n",
        "# Fitting the model to predict Fatalities\n",
        "xgb_grid_fatalities.fit(X_train, y_train_fatalities)\n",
        "best_xgb_fatalities = xgb_grid_fatalities.best_estimator_\n",
        "\n",
        "# Printing best parameters\n",
        "print(\"Best parameters for Economic Loss:\", xgb_grid_loss.best_params_)\n",
        "print(\"Best parameters for Fatalities:\", xgb_grid_fatalities.best_params_)\n"
      ],
      "metadata": {
        "colab": {
          "base_uri": "https://localhost:8080/"
        },
        "id": "Cdi2jVE8zNMw",
        "outputId": "e3aee79c-9a59-4f65-f759-c0709c7ba478"
      },
      "execution_count": 32,
      "outputs": [
        {
          "output_type": "stream",
          "name": "stdout",
          "text": [
            "Fitting 5 folds for each of 81 candidates, totalling 405 fits\n",
            "Fitting 5 folds for each of 81 candidates, totalling 405 fits\n",
            "Best parameters for Economic Loss: {'learning_rate': 0.01, 'max_depth': 3, 'n_estimators': 100, 'subsample': 0.7}\n",
            "Best parameters for Fatalities: {'learning_rate': 0.01, 'max_depth': 3, 'n_estimators': 100, 'subsample': 0.8}\n"
          ]
        }
      ]
    },
    {
      "cell_type": "markdown",
      "source": [
        "Best XGB Model"
      ],
      "metadata": {
        "id": "M3UhTQIV6PW7"
      }
    },
    {
      "cell_type": "code",
      "source": [
        "# Predicting for the test data\n",
        "y_pred_loss_xgb = best_xgb_loss.predict(X_test_loss)\n",
        "y_pred_fatalities_xgb = best_xgb_fatalities.predict(X_test)\n",
        "\n",
        "# Calculating performance metrics\n",
        "mse_xgb_loss = mean_squared_error(y_test_loss, y_pred_loss_xgb)\n",
        "r2_xgb_loss = r2_score(y_test_loss, y_pred_loss_xgb)\n",
        "\n",
        "mse_xgb_fatalities = mean_squared_error(y_test_fatalities, y_pred_fatalities_xgb)\n",
        "r2_xgb_fatalities = r2_score(y_test_fatalities, y_pred_fatalities_xgb)\n",
        "\n",
        "print(f\"XGBoost MSE for Economic Loss: {mse_xgb_loss}\")\n",
        "print(f\"XGBoost R² for Economic Loss: {r2_xgb_loss}\")\n",
        "print(f\"XGBoost MSE for Fatalities: {mse_xgb_fatalities}\")\n",
        "print(f\"XGBoost R² for Fatalities: {r2_xgb_fatalities}\")\n"
      ],
      "metadata": {
        "colab": {
          "base_uri": "https://localhost:8080/"
        },
        "id": "W7eMNDyX6Pwr",
        "outputId": "c1faa87a-e1b9-417a-dabd-1d1fc511b711"
      },
      "execution_count": 34,
      "outputs": [
        {
          "output_type": "stream",
          "name": "stdout",
          "text": [
            "XGBoost MSE for Economic Loss: 1.0234958788908177\n",
            "XGBoost R² for Economic Loss: -0.0019157463618759696\n",
            "XGBoost MSE for Fatalities: 1.0259745104967548\n",
            "XGBoost R² for Fatalities: -0.0029498789656072777\n"
          ]
        }
      ]
    },
    {
      "cell_type": "markdown",
      "source": [
        "Model Comparison"
      ],
      "metadata": {
        "id": "p8t6LVZj68mq"
      }
    },
    {
      "cell_type": "code",
      "source": [
        "import matplotlib.pyplot as plt\n",
        "\n",
        "# Define models and corresponding MSE and R-squared values\n",
        "models = ['Linear Regression', 'Random Forest', 'SVM', 'MLP', 'Gradient Boosting', 'XGBoost']\n",
        "# Adjust mse_values and r2_values to match the length of models by either removing one of the mse_xgb or r2_xgb value or adding extra model names in models\n",
        "mse_values = [mse_lr, mse_rf, mse_svr, mse_mlp, mse_gbr, mse_xgb_loss]  # Include only mse_xgb_loss for example\n",
        "r2_values = [r2_lr, r2_rf, r2_svr, r2_mlp, r2_gbr, r2_xgb_loss]  # Include only r2_xgb_loss for example\n",
        "\n",
        "\n",
        "# MSE Comparison\n",
        "plt.figure(figsize=(10, 6))\n",
        "plt.bar(models, mse_values, color='skyblue')\n",
        "plt.xlabel('Models')\n",
        "plt.ylabel('Mean Squared Error')\n",
        "plt.title('Model Performance Comparison (MSE)')\n",
        "\n",
        "# R2_Score Comparison\n",
        "plt.figure(figsize=(10, 6))\n",
        "plt.bar(models, r2_values, color='lightcoral')\n",
        "plt.xlabel('Models')\n",
        "plt.ylabel('R-squared')\n",
        "plt.title('Model Performance Comparison (R-squared)')\n",
        "\n",
        "plt.show()"
      ],
      "metadata": {
        "colab": {
          "base_uri": "https://localhost:8080/",
          "height": 1000
        },
        "id": "qjwqXZi768U2",
        "outputId": "890edc12-090a-4a73-95ec-0345e551caf6"
      },
      "execution_count": 38,
      "outputs": [
        {
          "output_type": "display_data",
          "data": {
            "text/plain": [
              "<Figure size 1000x600 with 1 Axes>"
            ],
            "image/png": "[encoded data removed]"
          },
          "metadata": {}
        },
        {
          "output_type": "display_data",
          "data": {
            "text/plain": [
              "<Figure size 1000x600 with 1 Axes>"
            ],
            "image/png": "[encoded data removed]"
          },
          "metadata": {}
        }
      ]
    }
  ]
}